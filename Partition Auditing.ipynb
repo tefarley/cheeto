{
 "cells": [
  {
   "cell_type": "code",
   "execution_count": 31,
   "id": "bb90b301",
   "metadata": {},
   "outputs": [],
   "source": [
    "from cheeto.puppet import (parse_yaml_forest,\n",
    "                           validate_yaml_forest,\n",
    "                           PuppetAccountMap,\n",
    "                           MergeStrategy,\n",
    "                           SlurmQOS,\n",
    "                           SlurmQOSTRES)\n",
    "from cheeto.slurm import (SControl, \n",
    "                          sanitize_tres, \n",
    "                          build_puppet_tres)\n",
    "from cheeto.utils import size_to_megs\n",
    "\n",
    "from rich import print as pprint"
   ]
  },
  {
   "cell_type": "code",
   "execution_count": 2,
   "id": "b9b040e7",
   "metadata": {},
   "outputs": [],
   "source": [
    "yamls = parse_yaml_forest(['../puppet.hpc-accounts/domains/farm.hpc.ucdavis.edu/merged/all.yaml'], \n",
    "                          merge_on=MergeStrategy.ALL)"
   ]
  },
  {
   "cell_type": "code",
   "execution_count": 3,
   "id": "ff2e1604",
   "metadata": {},
   "outputs": [],
   "source": [
    "_, puppet_data = next(validate_yaml_forest(yamls, PuppetAccountMap, strict=True))"
   ]
  },
  {
   "cell_type": "code",
   "execution_count": 4,
   "id": "98589ee2",
   "metadata": {},
   "outputs": [],
   "source": [
    "partitions = {}"
   ]
  },
  {
   "cell_type": "code",
   "execution_count": 34,
   "id": "85effa98",
   "metadata": {},
   "outputs": [
    {
     "name": "stdout",
     "output_type": "stream",
     "text": [
      "low2 (cpu-3-[50-57,62-69],cpu-4-[68-71,86-93],cpu-6-[58-77,86-97]): {'mem': 40960000, 'cpus': 8192, 'gpus': 0}\n",
      "med2 (cpu-3-[50-57,62-69],cpu-4-[68-71,86-93],cpu-6-[58-77,86-97]): {'mem': 40960000, 'cpus': 8192, 'gpus': 0}\n",
      "high2 (cpu-3-[50-57,62-69],cpu-4-[68-71,86-93],cpu-6-[58-77,86-97]): {'mem': 40960000, 'cpus': 8192, 'gpus': 0}\n",
      "low (cpu-8-[62-77,86-96],cpu-9-[63-70,72-77,86-97],cpu-10-[15-18,66-77,86-97],cpu-11-[70-77,86-97]): {'mem': 12928000, 'cpus': 2424, 'gpus': 0}\n",
      "med (cpu-8-[62-77,86-96],cpu-9-[63-70,72-77,86-97],cpu-10-[15-18,66-77,86-97],cpu-11-[70-77,86-97]): {'mem': 12928000, 'cpus': 2424, 'gpus': 0}\n",
      "high (cpu-8-[62-77,86-96],cpu-9-[63-70,72-77,86-97],cpu-10-[15-18,66-77,86-97],cpu-11-[70-77,86-97]): {'mem': 12928000, 'cpus': 2424, 'gpus': 0}\n",
      "bigmeml (bigmem[1-8,10]): {'mem': 9900000, 'cpus': 624, 'gpus': 0}\n",
      "bigmemm (bigmem[1-8,10]): {'mem': 9900000, 'cpus': 624, 'gpus': 0}\n",
      "bigmemh (bigmem[1-8]): {'mem': 7960000, 'cpus': 528, 'gpus': 0}\n",
      "bigmemht (bigmem10): {'mem': 1940000, 'cpus': 96, 'gpus': 0}\n",
      "bit150h (bigmem9): {'mem': 1000000, 'cpus': 80, 'gpus': 0}\n",
      "ecl243 (bigmem9): {'mem': 1000000, 'cpus': 80, 'gpus': 0}\n",
      "bml (bm[1-24]): {'mem': 60304000, 'cpus': 3264, 'gpus': 0}\n",
      "bmm (bm[1-24]): {'mem': 60304000, 'cpus': 3264, 'gpus': 0}\n",
      "bmh (bm[1-24]): {'mem': 60304000, 'cpus': 3264, 'gpus': 0}\n",
      "gpul (gpu-4-[54,56],gpu-5-[50,58]): {'mem': 7048000, 'cpus': 248, 'gpus': 28}\n",
      "bgpu (gpu-4-54,gpu-12-92): {'mem': 2256000, 'cpus': 64, 'gpus': 5}\n",
      "gpuh (gpu-5-[50,58]): {'mem': 3000000, 'cpus': 96, 'gpus': 16}\n",
      "gpum (gpu-5-[50,58]): {'mem': 3000000, 'cpus': 96, 'gpus': 16}\n",
      "gpu-a100-h (gpu-4-56): {'mem': 2048000, 'cpus': 128, 'gpus': 8}\n"
     ]
    }
   ],
   "source": [
    "with open('farm.partitions.txt') as fp:\n",
    "    for row in SControl.get_scontrol_parser(fp):\n",
    "        name = row['PartitionName']\n",
    "        nodes = row['Nodes']\n",
    "        san_tres = sanitize_tres(row['TRES'])\n",
    "        tres = {'mem': size_to_megs(san_tres['mem']),\n",
    "                'cpus': int(san_tres.get('cpu', 0)),\n",
    "                'gpus': int(san_tres.get('gpu', 0))}\n",
    "        print(f'{name} ({nodes}): {tres}')\n",
    "        partitions[name] = {'nodes': nodes, 'tres_max': tres, 'tres_mapped': {'cpus': 0, 'mem': 0, 'gpus': 0}}"
   ]
  },
  {
   "cell_type": "code",
   "execution_count": 35,
   "id": "f6fd6ccd",
   "metadata": {},
   "outputs": [
    {
     "name": "stdout",
     "output_type": "stream",
     "text": [
      "Partition \"ecl243h\" in puppet but not Slurm.\n"
     ]
    }
   ],
   "source": [
    "partition_qoses = {}\n",
    "for groupname, group in puppet_data.group.items():\n",
    "    if group.slurm and group.slurm.partitions:\n",
    "        for name, partition in group.slurm.partitions.items():\n",
    "            if type(partition.qos) is not SlurmQOS:\n",
    "                continue\n",
    "            if partition.qos.group is None:\n",
    "                continue\n",
    "            qos_tres = partition.qos.group\n",
    "            try:\n",
    "                part_tally = partitions[name]['tres_mapped']\n",
    "            except KeyError:\n",
    "                print(f'Partition \"{name}\" in puppet but not Slurm.')\n",
    "                continue\n",
    "            part_tally['cpus'] += (qos_tres.cpus if qos_tres.cpus is not None else 0)\n",
    "            part_tally['gpus'] += (qos_tres.gpus if qos_tres.gpus is not None else 0)\n",
    "            part_tally['mem'] += (size_to_megs(qos_tres.mem) if qos_tres.mem is not None else 0)"
   ]
  },
  {
   "cell_type": "code",
   "execution_count": 39,
   "id": "78d1e6d6",
   "metadata": {},
   "outputs": [],
   "source": [
    "for partname, part in partitions.items():\n",
    "    tres_mapped = part['tres_mapped']\n",
    "    tres_max = part['tres_max']\n",
    "    ratios = {k: tres_mapped[k] / v for k, v in tres_max.items() if v != 0}\n",
    "    part['oversubscribe_factor'] = ratios"
   ]
  },
  {
   "cell_type": "code",
   "execution_count": 49,
   "id": "1880a8a1",
   "metadata": {
    "scrolled": false
   },
   "outputs": [
    {
     "name": "stdout",
     "output_type": "stream",
     "text": [
      "high2:\n",
      "\tAvailable: {'mem': 40960000, 'cpus': 8192, 'gpus': 0}\n",
      "\tOversubscription: {'mem': 0.7138671875, 'cpus': 1.00390625}\n",
      "high:\n",
      "\tAvailable: {'mem': 12928000, 'cpus': 2424, 'gpus': 0}\n",
      "\tOversubscription: {'mem': 0.7326732673267327, 'cpus': 1.504950495049505}\n",
      "bigmemh:\n",
      "\tAvailable: {'mem': 7960000, 'cpus': 528, 'gpus': 0}\n",
      "\tOversubscription: {'mem': 0.628643216080402, 'cpus': 1.0909090909090908}\n",
      "bigmemht:\n",
      "\tAvailable: {'mem': 1940000, 'cpus': 96, 'gpus': 0}\n",
      "\tOversubscription: {'mem': 1.0309278350515463, 'cpus': 2.0}\n",
      "bit150h:\n",
      "\tAvailable: {'mem': 1000000, 'cpus': 80, 'gpus': 0}\n",
      "\tOversubscription: {'mem': 0.256, 'cpus': 1.2}\n",
      "gpu-a100-h:\n",
      "\tAvailable: {'mem': 2048000, 'cpus': 128, 'gpus': 8}\n",
      "\tOversubscription: {'mem': 0.5, 'cpus': 2.0, 'gpus': 1.0}\n"
     ]
    }
   ],
   "source": [
    "for partname, part in partitions.items():\n",
    "    if any((v > 1 for v in part['oversubscribe_factor'].values())):\n",
    "        print(f'{partname}:\\n\\tAvailable: {part[\"tres_max\"]}\\n\\tOversubscription: {part[\"oversubscribe_factor\"]}')"
   ]
  },
  {
   "cell_type": "code",
   "execution_count": 50,
   "id": "1f2a1846",
   "metadata": {},
   "outputs": [
    {
     "data": {
      "text/plain": [
       "{'nodes': 'cpu-8-[62-77,86-96],cpu-9-[63-70,72-77,86-97],cpu-10-[15-18,66-77,86-97],cpu-11-[70-77,86-97]',\n",
       " 'tres_max': {'mem': 12928000, 'cpus': 2424, 'gpus': 0},\n",
       " 'tres_mapped': {'cpus': 3648, 'mem': 9472000, 'gpus': 0},\n",
       " 'oversubscribe_factor': {'mem': 0.7326732673267327,\n",
       "  'cpus': 1.504950495049505}}"
      ]
     },
     "execution_count": 50,
     "metadata": {},
     "output_type": "execute_result"
    }
   ],
   "source": [
    "partitions['high']"
   ]
  },
  {
   "cell_type": "code",
   "execution_count": null,
   "id": "09b61065",
   "metadata": {},
   "outputs": [],
   "source": []
  }
 ],
 "metadata": {
  "kernelspec": {
   "display_name": "Python 3 (ipykernel)",
   "language": "python",
   "name": "python3"
  },
  "language_info": {
   "codemirror_mode": {
    "name": "ipython",
    "version": 3
   },
   "file_extension": ".py",
   "mimetype": "text/x-python",
   "name": "python",
   "nbconvert_exporter": "python",
   "pygments_lexer": "ipython3",
   "version": "3.11.0"
  }
 },
 "nbformat": 4,
 "nbformat_minor": 5
}
